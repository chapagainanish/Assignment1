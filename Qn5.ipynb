{
 "cells": [
  {
   "cell_type": "code",
   "execution_count": 2,
   "id": "a26e044a-79b3-4331-97d7-fed88485bd72",
   "metadata": {},
   "outputs": [
    {
     "data": {
      "text/plain": [
       "[1, 2, 3, 4, 5, 6, 7, 8, 9, 10]"
      ]
     },
     "execution_count": 2,
     "metadata": {},
     "output_type": "execute_result"
    }
   ],
   "source": [
    "list_number=[1,2,3,4,5,6,7,8,9,10]\n",
    "list_number"
   ]
  },
  {
   "cell_type": "code",
   "execution_count": 3,
   "id": "8c46cf39-d0e2-4494-b8bd-7bd112fbc0e6",
   "metadata": {},
   "outputs": [],
   "source": [
    "sum=0"
   ]
  },
  {
   "cell_type": "code",
   "execution_count": 4,
   "id": "a05b9cea-2b16-4464-aae7-129609f935f4",
   "metadata": {},
   "outputs": [],
   "source": [
    "for i in range (0,10):\n",
    "    sum+=list_number[i]"
   ]
  },
  {
   "cell_type": "code",
   "execution_count": 5,
   "id": "059673be-9968-40e2-9fae-36094bbb26e2",
   "metadata": {},
   "outputs": [
    {
     "name": "stdout",
     "output_type": "stream",
     "text": [
      "55\n"
     ]
    }
   ],
   "source": [
    "print(sum)"
   ]
  }
 ],
 "metadata": {
  "kernelspec": {
   "display_name": "Python 3 (ipykernel)",
   "language": "python",
   "name": "python3"
  },
  "language_info": {
   "codemirror_mode": {
    "name": "ipython",
    "version": 3
   },
   "file_extension": ".py",
   "mimetype": "text/x-python",
   "name": "python",
   "nbconvert_exporter": "python",
   "pygments_lexer": "ipython3",
   "version": "3.11.7"
  }
 },
 "nbformat": 4,
 "nbformat_minor": 5
}
