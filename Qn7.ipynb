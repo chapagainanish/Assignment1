{
 "cells": [
  {
   "cell_type": "markdown",
   "id": "39f01605-08af-4534-925c-e006aa8cd418",
   "metadata": {},
   "source": [
    "Create a tuple containing the names of the days of the week and print it. Access and print\r\n",
    "the name of the third day."
   ]
  },
  {
   "cell_type": "code",
   "execution_count": 2,
   "id": "c0bfe392-19a2-494d-838c-b0ac0348f53e",
   "metadata": {},
   "outputs": [
    {
     "name": "stdout",
     "output_type": "stream",
     "text": [
      "('Sunday', 'Monday', 'Tuesday', 'Wednesday', 'Thursday', 'Friday', 'Saturday')\n"
     ]
    }
   ],
   "source": [
    "days= (\"Sunday\",\"Monday\",\"Tuesday\", \"Wednesday\", \"Thursday\", \"Friday\", \"Saturday\")\n",
    "print(days)"
   ]
  },
  {
   "cell_type": "code",
   "execution_count": 3,
   "id": "07cfaa8f-6d37-45b8-bea6-a3a2489c9d47",
   "metadata": {},
   "outputs": [
    {
     "name": "stdout",
     "output_type": "stream",
     "text": [
      "Third Day: Tuesday\n"
     ]
    }
   ],
   "source": [
    "print(\"Third Day:\",days[2])"
   ]
  }
 ],
 "metadata": {
  "kernelspec": {
   "display_name": "Python 3 (ipykernel)",
   "language": "python",
   "name": "python3"
  },
  "language_info": {
   "codemirror_mode": {
    "name": "ipython",
    "version": 3
   },
   "file_extension": ".py",
   "mimetype": "text/x-python",
   "name": "python",
   "nbconvert_exporter": "python",
   "pygments_lexer": "ipython3",
   "version": "3.11.7"
  }
 },
 "nbformat": 4,
 "nbformat_minor": 5
}
