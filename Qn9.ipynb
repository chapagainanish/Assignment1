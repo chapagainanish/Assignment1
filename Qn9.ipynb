{
 "cells": [
  {
   "cell_type": "markdown",
   "id": "1ff65401-7576-4a69-bd8b-015efe522930",
   "metadata": {},
   "source": [
    "Create a dictionary representing the information of a book with keys \"title\", \"author\", and\r\n",
    "\"year\" and print it. Update the year of the book and print the updated dictionary."
   ]
  },
  {
   "cell_type": "code",
   "execution_count": 2,
   "id": "f501d4db-65a7-4c88-8c7f-b2f55ad540bd",
   "metadata": {},
   "outputs": [],
   "source": [
    "book_info = {\n",
    "    \"title\": \"HARRY POTTER\",\n",
    "    \"author\": \"J.K.Rowling\",\n",
    "    \"year\": 1997\n",
    "}"
   ]
  },
  {
   "cell_type": "code",
   "execution_count": 3,
   "id": "c7925c13-4f46-4786-9ed3-553c07a3f453",
   "metadata": {},
   "outputs": [
    {
     "name": "stdout",
     "output_type": "stream",
     "text": [
      "{'title': 'HARRY POTTER', 'author': 'J.K.Rowling', 'year': 1997}\n"
     ]
    }
   ],
   "source": [
    "print(book_info)"
   ]
  },
  {
   "cell_type": "code",
   "execution_count": 4,
   "id": "1a9a29ac-e2fc-48e9-91f6-219d2a9c1b19",
   "metadata": {},
   "outputs": [],
   "source": [
    "book_info[\"year\"]=1947"
   ]
  },
  {
   "cell_type": "code",
   "execution_count": 5,
   "id": "3481eb7d-9110-4038-89d9-9e6b56c15e22",
   "metadata": {},
   "outputs": [
    {
     "name": "stdout",
     "output_type": "stream",
     "text": [
      "{'title': 'HARRY POTTER', 'author': 'J.K.Rowling', 'year': 1947}\n"
     ]
    }
   ],
   "source": [
    "print(book_info)"
   ]
  },
  {
   "cell_type": "code",
   "execution_count": null,
   "id": "5b539c94-78e0-4008-87de-7248552e502e",
   "metadata": {},
   "outputs": [],
   "source": []
  }
 ],
 "metadata": {
  "kernelspec": {
   "display_name": "Python 3 (ipykernel)",
   "language": "python",
   "name": "python3"
  },
  "language_info": {
   "codemirror_mode": {
    "name": "ipython",
    "version": 3
   },
   "file_extension": ".py",
   "mimetype": "text/x-python",
   "name": "python",
   "nbconvert_exporter": "python",
   "pygments_lexer": "ipython3",
   "version": "3.11.7"
  }
 },
 "nbformat": 4,
 "nbformat_minor": 5
}
