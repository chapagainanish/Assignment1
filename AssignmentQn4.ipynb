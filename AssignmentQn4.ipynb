{
 "cells": [
  {
   "cell_type": "markdown",
   "id": "614f7cea-cd48-4bd5-b66c-0accbdb125e6",
   "metadata": {},
   "source": [
    "list of favorite movie"
   ]
  },
  {
   "cell_type": "code",
   "execution_count": 2,
   "id": "91b28943-ea34-49ee-9576-59439e4f3c21",
   "metadata": {},
   "outputs": [
    {
     "data": {
      "text/plain": [
       "['Jhola', 'Kabbadi', 'Loot']"
      ]
     },
     "execution_count": 2,
     "metadata": {},
     "output_type": "execute_result"
    }
   ],
   "source": [
    "list_movie=['Jhola','Kabbadi','Loot']\n",
    "list_movie"
   ]
  },
  {
   "cell_type": "code",
   "execution_count": 5,
   "id": "60510c36-902c-40d5-8e1c-f4d94533c456",
   "metadata": {},
   "outputs": [
    {
     "data": {
      "text/plain": [
       "['Jhola', 'Kabbadi', 'Loot', 'Hostel']"
      ]
     },
     "execution_count": 5,
     "metadata": {},
     "output_type": "execute_result"
    }
   ],
   "source": [
    "list_movie.append('Hostel')\n",
    "list_movie"
   ]
  }
 ],
 "metadata": {
  "kernelspec": {
   "display_name": "Python 3 (ipykernel)",
   "language": "python",
   "name": "python3"
  },
  "language_info": {
   "codemirror_mode": {
    "name": "ipython",
    "version": 3
   },
   "file_extension": ".py",
   "mimetype": "text/x-python",
   "name": "python",
   "nbconvert_exporter": "python",
   "pygments_lexer": "ipython3",
   "version": "3.11.7"
  }
 },
 "nbformat": 4,
 "nbformat_minor": 5
}
