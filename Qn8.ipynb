{
 "cells": [
  {
   "cell_type": "markdown",
   "id": "7c377626-9101-4851-85bd-e6653a8cdbc6",
   "metadata": {},
   "source": [
    "Create a tuple of your favorite colors and print it. Check if a certain color is present in the\r\n",
    "tuple and print the result."
   ]
  },
  {
   "cell_type": "code",
   "execution_count": 1,
   "id": "cc0c4769-bde9-4bf2-9538-df5ca3d4fe31",
   "metadata": {},
   "outputs": [
    {
     "name": "stdout",
     "output_type": "stream",
     "text": [
      "('Red', 'Green', 'Yellow', 'Blue')\n"
     ]
    }
   ],
   "source": [
    "colors=(\"Red\",\"Green\",\"Yellow\",\"Blue\")\n",
    "print(colors)"
   ]
  },
  {
   "cell_type": "code",
   "execution_count": 2,
   "id": "a2b9d140-7245-4223-a2fb-15b8205db808",
   "metadata": {},
   "outputs": [],
   "source": [
    "my_color=\"Red\""
   ]
  },
  {
   "cell_type": "code",
   "execution_count": 4,
   "id": "f6e57dae-1115-4a9b-b0b5-4d9624b76b0f",
   "metadata": {},
   "outputs": [
    {
     "name": "stdout",
     "output_type": "stream",
     "text": [
      "Red  is my favorite color\n"
     ]
    }
   ],
   "source": [
    "if my_color in colors:\n",
    "    print( my_color,\" is my favorite color\")\n",
    "else:\n",
    "    print(my_color,\"isnot my favorite color\")"
   ]
  }
 ],
 "metadata": {
  "kernelspec": {
   "display_name": "Python 3 (ipykernel)",
   "language": "python",
   "name": "python3"
  },
  "language_info": {
   "codemirror_mode": {
    "name": "ipython",
    "version": 3
   },
   "file_extension": ".py",
   "mimetype": "text/x-python",
   "name": "python",
   "nbconvert_exporter": "python",
   "pygments_lexer": "ipython3",
   "version": "3.11.7"
  }
 },
 "nbformat": 4,
 "nbformat_minor": 5
}
