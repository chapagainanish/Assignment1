{
 "cells": [
  {
   "cell_type": "markdown",
   "id": "d2e0725e-5507-4e64-b3f9-c519895a8101",
   "metadata": {},
   "source": [
    "Create a dictionary representing the population of different cities with keys as city names\r\n",
    "and values as population numbers and print it. Remove a city from the dictionary and print\r\n",
    "the modified dictionary."
   ]
  },
  {
   "cell_type": "code",
   "execution_count": 5,
   "id": "80e75fe6-7d5b-43cc-870a-33afe309721c",
   "metadata": {},
   "outputs": [
    {
     "name": "stdout",
     "output_type": "stream",
     "text": [
      "{'Kathmandu': 989565, 'Pokhara': 85885, 'Mustang': 8546}\n"
     ]
    }
   ],
   "source": [
    "city_population={\n",
    "    'Kathmandu':989565,\n",
    "    'Pokhara':85885,\n",
    "    'Mustang':8546\n",
    "}\n",
    "print(city_population)"
   ]
  },
  {
   "cell_type": "code",
   "execution_count": 6,
   "id": "5c31794b-0027-443c-98ae-9116afab5c6a",
   "metadata": {},
   "outputs": [
    {
     "name": "stdout",
     "output_type": "stream",
     "text": [
      "{'Kathmandu': 989565, 'Pokhara': 85885}\n"
     ]
    }
   ],
   "source": [
    "del city_population['Mustang']\n",
    "print(city_population)"
   ]
  }
 ],
 "metadata": {
  "kernelspec": {
   "display_name": "Python 3 (ipykernel)",
   "language": "python",
   "name": "python3"
  },
  "language_info": {
   "codemirror_mode": {
    "name": "ipython",
    "version": 3
   },
   "file_extension": ".py",
   "mimetype": "text/x-python",
   "name": "python",
   "nbconvert_exporter": "python",
   "pygments_lexer": "ipython3",
   "version": "3.11.7"
  }
 },
 "nbformat": 4,
 "nbformat_minor": 5
}
