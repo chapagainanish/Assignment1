{
 "cells": [
  {
   "cell_type": "markdown",
   "id": "a5e17971-4aff-4b3c-a6b0-cd521c65e9a3",
   "metadata": {},
   "source": [
    "Create a dictionary containing the names of fruits as keys and their corresponding colors\n",
    "as values and print it. Add a new fruit-color pair to the dictionary and print the updated\n",
    "dictionary."
   ]
  },
  {
   "cell_type": "code",
   "execution_count": 1,
   "id": "a6396725-df48-4150-8d28-6c8699aba8cc",
   "metadata": {},
   "outputs": [
    {
     "name": "stdout",
     "output_type": "stream",
     "text": [
      "{'apple': 'red', 'orange': 'orange', 'banana': 'yellow'}\n"
     ]
    }
   ],
   "source": [
    "fruits={\n",
    "    \"apple\":\"red\",\n",
    "    \"orange\":\"orange\",\n",
    "    \"banana\":\"yellow\"}\n",
    "print(fruits)\n",
    "    "
   ]
  },
  {
   "cell_type": "code",
   "execution_count": 2,
   "id": "dcc4f928-c43d-4060-9608-0e4e11754c83",
   "metadata": {},
   "outputs": [
    {
     "name": "stdout",
     "output_type": "stream",
     "text": [
      "{'apple': 'red', 'orange': 'orange', 'banana': 'yellow', 'Mango': 'yellow'}\n"
     ]
    }
   ],
   "source": [
    "fruits['Mango']='yellow'\n",
    "print(fruits)"
   ]
  },
  {
   "cell_type": "code",
   "execution_count": null,
   "id": "87f28173-f7b5-49f6-8b56-5522dc24d359",
   "metadata": {},
   "outputs": [],
   "source": []
  }
 ],
 "metadata": {
  "kernelspec": {
   "display_name": "Python 3 (ipykernel)",
   "language": "python",
   "name": "python3"
  },
  "language_info": {
   "codemirror_mode": {
    "name": "ipython",
    "version": 3
   },
   "file_extension": ".py",
   "mimetype": "text/x-python",
   "name": "python",
   "nbconvert_exporter": "python",
   "pygments_lexer": "ipython3",
   "version": "3.11.7"
  }
 },
 "nbformat": 4,
 "nbformat_minor": 5
}
