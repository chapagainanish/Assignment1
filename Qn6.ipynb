{
 "cells": [
  {
   "cell_type": "markdown",
   "id": "fb834fc6-8d14-4e85-a04a-76ed60fbe73b",
   "metadata": {},
   "source": [
    "list of mixed data types and modify it\n"
   ]
  },
  {
   "cell_type": "code",
   "execution_count": 1,
   "id": "d4fe458f-8eb2-4558-a154-c7aa49e8e940",
   "metadata": {},
   "outputs": [
    {
     "data": {
      "text/plain": [
       "[12, 13, 14.5, 16.55, 'Data', 'Science']"
      ]
     },
     "execution_count": 1,
     "metadata": {},
     "output_type": "execute_result"
    }
   ],
   "source": [
    "list_mixed=[12,13,14.5,16.55,'Data','Science']\n",
    "list_mixed"
   ]
  },
  {
   "cell_type": "code",
   "execution_count": 2,
   "id": "3f93420a-9772-420a-91de-1b253f7dbb62",
   "metadata": {},
   "outputs": [
    {
     "data": {
      "text/plain": [
       "12"
      ]
     },
     "execution_count": 2,
     "metadata": {},
     "output_type": "execute_result"
    }
   ],
   "source": [
    "list_mixed.pop(0)"
   ]
  },
  {
   "cell_type": "code",
   "execution_count": 3,
   "id": "e1b556de-fe0a-4815-acd3-390557496f0e",
   "metadata": {},
   "outputs": [
    {
     "data": {
      "text/plain": [
       "[13, 14.5, 16.55, 'Data', 'Science']"
      ]
     },
     "execution_count": 3,
     "metadata": {},
     "output_type": "execute_result"
    }
   ],
   "source": [
    "list_mixed"
   ]
  }
 ],
 "metadata": {
  "kernelspec": {
   "display_name": "Python 3 (ipykernel)",
   "language": "python",
   "name": "python3"
  },
  "language_info": {
   "codemirror_mode": {
    "name": "ipython",
    "version": 3
   },
   "file_extension": ".py",
   "mimetype": "text/x-python",
   "name": "python",
   "nbconvert_exporter": "python",
   "pygments_lexer": "ipython3",
   "version": "3.11.7"
  }
 },
 "nbformat": 4,
 "nbformat_minor": 5
}
